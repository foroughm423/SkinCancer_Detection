{
  "nbformat": 4,
  "nbformat_minor": 0,
  "metadata": {
    "colab": {
      "provenance": [],
      "gpuType": "T4"
    },
    "kernelspec": {
      "name": "python3",
      "display_name": "Python 3"
    },
    "language_info": {
      "name": "python"
    },
    "accelerator": "GPU"
  },
  "cells": [
    {
      "cell_type": "code",
      "execution_count": null,
      "metadata": {
        "id": "B-5dEIC8BfhI"
      },
      "outputs": [],
      "source": [
        "# Project Title: Skin Cancer Classification with Transfer Learning\n",
        "\n",
        "# This project uses a Convolutional Neural Network (CNN) based on Transfer Learning to classify skin lesions into benign and malignant categories.\n",
        "# The dataset used is the ISIC 2018 dataset, a widely recognized benchmark in skin cancer research."
      ]
    },
    {
      "cell_type": "code",
      "source": [
        "# Import libraries\n",
        "\n",
        "# General-purpose libraries\n",
        "import os\n",
        "import random\n",
        "import numpy as np\n",
        "import pandas as pd\n",
        "from tqdm import tqdm\n",
        "\n",
        "# Visualization\n",
        "import matplotlib.pyplot as plt\n",
        "import matplotlib.image as mpimg\n",
        "import seaborn as sns\n",
        "\n",
        "# Deep learning (TensorFlow & Keras)\n",
        "import tensorflow as tf\n",
        "from tensorflow.keras.models import Sequential, Model\n",
        "from tensorflow.keras.layers import (Dense, Conv2D, MaxPooling2D, Flatten, Dropout,\n",
        "                                     BatchNormalization, GlobalAveragePooling2D, Input)\n",
        "from tensorflow.keras.preprocessing.image import ImageDataGenerator, load_img, img_to_array\n",
        "from tensorflow.keras.applications import MobileNetV2, EfficientNetB0\n",
        "from tensorflow.keras.applications.efficientnet import preprocess_input\n",
        "from tensorflow.keras.utils import to_categorical\n",
        "from tensorflow.keras.optimizers import Adam\n",
        "\n",
        "# Scikit-learn for preprocessing & evaluation\n",
        "from sklearn.preprocessing import LabelEncoder, label_binarize\n",
        "from sklearn.model_selection import train_test_split\n",
        "from sklearn.metrics import (classification_report, confusion_matrix,\n",
        "                             ConfusionMatrixDisplay, roc_curve, auc)\n",
        "from itertools import cycle"
      ],
      "metadata": {
        "id": "1Qn2vQfJLXJf"
      },
      "execution_count": null,
      "outputs": []
    },
    {
      "cell_type": "code",
      "source": [
        "# Install Kaggle API\n",
        "!pip install -q kaggle\n",
        "\n",
        "# If running locally or in Colab, upload your kaggle.json here:\n",
        "# from google.colab import files\n",
        "# files.upload()  # Upload kaggle.json manually\n",
        "\n",
        "# Or manually place kaggle.json in ~/.kaggle/ if you are running in a prepared environment\n",
        "os.makedirs('/root/.kaggle', exist_ok=True)\n",
        "# os.rename('kaggle.json', '/root/.kaggle/kaggle.json')  # Uncomment if using upload method\n",
        "os.chmod('/root/.kaggle/kaggle.json', 600)\n",
        "\n",
        "# Download and unzip the dataset\n",
        "!kaggle datasets download -d kmader/skin-cancer-mnist-ham10000\n",
        "!unzip -q skin-cancer-mnist-ham10000.zip -d ./skin_cancer_data"
      ],
      "metadata": {
        "id": "wOk3FqdnQumI"
      },
      "execution_count": null,
      "outputs": []
    },
    {
      "cell_type": "code",
      "source": [
        "# Load metadata CSV file\n",
        "\n",
        "df = pd.read_csv('./skin_cancer_data/HAM10000_metadata.csv')\n",
        "df.head()"
      ],
      "metadata": {
        "id": "FyLSl41jGJCi"
      },
      "execution_count": null,
      "outputs": []
    },
    {
      "cell_type": "code",
      "source": [
        "# Label distribution visualization\n",
        "\n",
        "plt.figure(figsize=(10, 5))\n",
        "sns.countplot(df, x='dx', order=df['dx'].value_counts().index)\n",
        "plt.title(\"Label Distribution in HAM10000 Dataset\")\n",
        "plt.xlabel(\"Lesion Type\")\n",
        "plt.ylabel(\"Count\")\n",
        "plt.show()"
      ],
      "metadata": {
        "id": "ETIeTT8YGoYS"
      },
      "execution_count": null,
      "outputs": []
    },
    {
      "cell_type": "code",
      "source": [
        "# Map short labels to full lesion names\n",
        "\n",
        "lesion_labels = {\n",
        "    'nv': 'Melanocytic nevi',\n",
        "    'mel': 'Melanoma',\n",
        "    'bkl': 'Benign keratosis-like lesions',\n",
        "    'bcc': 'Basal cell carcinoma',\n",
        "    'akiec': 'Actinic keratoses',\n",
        "    'vasc': 'Vascular lesions',\n",
        "    'df': 'Dermatofibroma'\n",
        "}\n",
        "\n",
        "df['lesion_type'] = df['dx'].map(lesion_labels)"
      ],
      "metadata": {
        "id": "dGkI0vhUGxGk"
      },
      "execution_count": null,
      "outputs": []
    },
    {
      "cell_type": "code",
      "source": [
        "# Show class distribution\n",
        "label_counts = df['dx'].value_counts()\n",
        "print(\"Lesion Type Distribution:\")\n",
        "print(label_counts)\n",
        "\n",
        "# Plot distribution\n",
        "plt.figure(figsize=(10, 5))\n",
        "sns.barplot(x=label_counts.index, y=label_counts.values)\n",
        "plt.title(\"Distribution of Lesion Types\")\n",
        "plt.xlabel(\"Lesion Type Code\")\n",
        "plt.ylabel(\"Count\")\n",
        "plt.show()"
      ],
      "metadata": {
        "id": "AeHRMFZwG72Q"
      },
      "execution_count": null,
      "outputs": []
    },
    {
      "cell_type": "code",
      "source": [
        "# Show one sample image per lesion type class\n",
        "\n",
        "image_dirs = [\n",
        "    './skin_cancer_data/HAM10000_images_part_1/',\n",
        "    './skin_cancer_data/HAM10000_images_part_2/'\n",
        "]\n",
        "\n",
        "classes = df['lesion_type'].unique()\n",
        "\n",
        "plt.figure(figsize=(15, 10))\n",
        "for i, lesion in enumerate(classes):\n",
        "    sample = df[df['lesion_type'] == lesion].sample(1).iloc[0]\n",
        "    image_filename = sample['image_id'] + '.jpg'\n",
        "\n",
        "    for dir_path in image_dirs:\n",
        "        image_path = os.path.join(dir_path, image_filename)\n",
        "        if os.path.exists(image_path):\n",
        "            img = mpimg.imread(image_path)\n",
        "            break\n",
        "    else:\n",
        "        print(f\"Image {image_filename} not found in either directory.\")\n",
        "        continue\n",
        "\n",
        "    plt.subplot(3, 3, i + 1)\n",
        "    plt.imshow(img)\n",
        "    plt.title(lesion)\n",
        "    plt.axis('off')\n",
        "\n",
        "plt.tight_layout()\n",
        "plt.show()"
      ],
      "metadata": {
        "id": "J3GSpO2oHsbN"
      },
      "execution_count": null,
      "outputs": []
    },
    {
      "cell_type": "code",
      "source": [
        "# Encode lesion type labels as integers\n",
        "\n",
        "le = LabelEncoder()\n",
        "df['label'] = le.fit_transform(df['lesion_type'])\n",
        "df[['lesion_type', 'label']].head()"
      ],
      "metadata": {
        "id": "hs78D2x3IDMh"
      },
      "execution_count": null,
      "outputs": []
    },
    {
      "cell_type": "code",
      "source": [
        "# Split data into training and testing sets\n",
        "train_df, test_df = train_test_split(df, test_size=0.2, stratify=df['label'], random_state=42)\n",
        "\n",
        "# Check class distribution\n",
        "print(\"Train distribution:\\n\", train_df['label'].value_counts())\n",
        "print(\"\\nTest distribution:\\n\", test_df['label'].value_counts())"
      ],
      "metadata": {
        "id": "xCVY-UNjIXMT"
      },
      "execution_count": null,
      "outputs": []
    },
    {
      "cell_type": "code",
      "source": [
        "# Preprocess images: resize and normalize\n",
        "\n",
        "IMAGE_SIZE = (128, 128)\n",
        "image_dirs = [\n",
        "    './skin_cancer_data/HAM10000_images_part_1/',\n",
        "    './skin_cancer_data/HAM10000_images_part_2/'\n",
        "]\n",
        "\n",
        "def preprocess_images(df):\n",
        "    images = []\n",
        "    labels = []\n",
        "\n",
        "    for i in tqdm(range(len(df))):\n",
        "        filename = df['image_id'].iloc[i] + '.jpg'\n",
        "        for dir_path in image_dirs:\n",
        "            path = os.path.join(dir_path, filename)\n",
        "            if os.path.exists(path):\n",
        "                img = load_img(path, target_size=IMAGE_SIZE)\n",
        "                img_array = img_to_array(img) / 255.0\n",
        "                images.append(img_array)\n",
        "                labels.append(df['label'].iloc[i])\n",
        "                break\n",
        "        else:\n",
        "            print(f\"Image {filename} not found in any directory.\")\n",
        "            continue\n",
        "\n",
        "    return np.array(images), np.array(labels)\n",
        "\n",
        "X_train, y_train = preprocess_images(train_df)\n",
        "X_test, y_test = preprocess_images(test_df)"
      ],
      "metadata": {
        "id": "UEr98QiuJL9D"
      },
      "execution_count": null,
      "outputs": []
    },
    {
      "cell_type": "code",
      "source": [
        "# Encode labels as one-hot vectors\n",
        "\n",
        "num_classes = len(np.unique(y_train))\n",
        "\n",
        "y_train_encoded = to_categorical(y_train, num_classes)\n",
        "y_test_encoded = to_categorical(y_test, num_classes)"
      ],
      "metadata": {
        "id": "P4L44G0cJUxr"
      },
      "execution_count": null,
      "outputs": []
    },
    {
      "cell_type": "code",
      "source": [
        "# Build the Transfer Learning model using MobileNetV2\n",
        "\n",
        "input_shape = (128, 128, 3)\n",
        "base_model = MobileNetV2(input_shape=input_shape, include_top=False, weights='imagenet')\n",
        "base_model.trainable = False\n",
        "\n",
        "x = base_model.output\n",
        "x = GlobalAveragePooling2D()(x)\n",
        "x = Dropout(0.3)(x)\n",
        "output = Dense(num_classes, activation='softmax')(x)\n",
        "\n",
        "model = Model(inputs=base_model.input, outputs=output)"
      ],
      "metadata": {
        "id": "ZoQjMLN0KrYr"
      },
      "execution_count": null,
      "outputs": []
    },
    {
      "cell_type": "code",
      "source": [
        "# Compile the model\n",
        "model.compile(optimizer='adam',\n",
        "              loss='categorical_crossentropy',\n",
        "              metrics=['accuracy'])\n",
        "\n",
        "# Display model summary\n",
        "model.summary()"
      ],
      "metadata": {
        "id": "wLN6-jRJNFp1"
      },
      "execution_count": null,
      "outputs": []
    },
    {
      "cell_type": "code",
      "source": [
        "# Train the model\n",
        "\n",
        "history = model.fit(X_train, y_train_encoded,\n",
        "                    validation_data=(X_test, y_test_encoded),\n",
        "                    epochs=10,\n",
        "                    batch_size=32)"
      ],
      "metadata": {
        "id": "KYN_X5NgNSQW"
      },
      "execution_count": null,
      "outputs": []
    },
    {
      "cell_type": "code",
      "source": [
        "# Plot training and validation accuracy & loss\n",
        "plt.figure(figsize=(14, 6))\n",
        "\n",
        "# Accuracy\n",
        "plt.subplot(1, 2, 1)\n",
        "plt.plot(history.history['accuracy'], label='Train Accuracy')\n",
        "plt.plot(history.history['val_accuracy'], label='Validation Accuracy')\n",
        "plt.title('Training vs Validation Accuracy')\n",
        "plt.xlabel('Epoch')\n",
        "plt.ylabel('Accuracy')\n",
        "plt.legend()\n",
        "\n",
        "# Loss\n",
        "plt.subplot(1, 2, 2)\n",
        "plt.plot(history.history['loss'], label='Train Loss')\n",
        "plt.plot(history.history['val_loss'], label='Validation Loss')\n",
        "plt.title('Training vs Validation Loss')\n",
        "plt.xlabel('Epoch')\n",
        "plt.ylabel('Loss')\n",
        "plt.legend()\n",
        "\n",
        "plt.tight_layout()\n",
        "plt.show()"
      ],
      "metadata": {
        "id": "YkfHcSjqOgE3"
      },
      "execution_count": null,
      "outputs": []
    },
    {
      "cell_type": "code",
      "source": [
        "# Predict on test data\n",
        "y_pred_probs = model.predict(X_test)\n",
        "y_pred = np.argmax(y_pred_probs, axis=1)\n",
        "\n",
        "# Plot confusion matrix\n",
        "cm = confusion_matrix(y_test, y_pred)\n",
        "plt.figure(figsize=(10, 8))\n",
        "sns.heatmap(cm, annot=True, fmt='d', cmap='Blues',\n",
        "            xticklabels=le.classes_, yticklabels=le.classes_)\n",
        "plt.title(\"Confusion Matrix\")\n",
        "plt.xlabel(\"Predicted Labels\")\n",
        "plt.ylabel(\"True Labels\")\n",
        "plt.show()\n",
        "\n",
        "# Print classification report\n",
        "print(classification_report(y_test, y_pred, target_names=le.classes_))"
      ],
      "metadata": {
        "id": "05wR9q7lNiJo"
      },
      "execution_count": null,
      "outputs": []
    },
    {
      "cell_type": "code",
      "source": [
        "# Binarize labels for ROC curve\n",
        "y_test_bin = label_binarize(y_test, classes=np.arange(num_classes))\n",
        "\n",
        "# Compute ROC curve and AUC for each class\n",
        "fpr = dict()\n",
        "tpr = dict()\n",
        "roc_auc = dict()\n",
        "\n",
        "for i in range(num_classes):\n",
        "    fpr[i], tpr[i], _ = roc_curve(y_test_bin[:, i], y_pred_probs[:, i])\n",
        "    roc_auc[i] = auc(fpr[i], tpr[i])\n",
        "\n",
        "# Plot ROC curves\n",
        "plt.figure(figsize=(10, 8))\n",
        "colors = cycle(['aqua', 'darkorange', 'cornflowerblue', 'red', 'green', 'purple', 'brown'])\n",
        "for i, color in zip(range(num_classes), colors):\n",
        "    plt.plot(fpr[i], tpr[i], color=color, lw=2,\n",
        "             label=f'Class {le.classes_[i]} (AUC = {roc_auc[i]:0.2f})')\n",
        "\n",
        "plt.plot([0, 1], [0, 1], 'k--', lw=2)\n",
        "plt.xlim([0.0, 1.0])\n",
        "plt.ylim([0.0, 1.05])\n",
        "plt.xlabel('False Positive Rate')\n",
        "plt.ylabel('True Positive Rate')\n",
        "plt.title('ROC Curve for Each Class')\n",
        "plt.legend(loc=\"lower right\")\n",
        "plt.show()"
      ],
      "metadata": {
        "id": "jxljZ8p2N9d-"
      },
      "execution_count": null,
      "outputs": []
    }
  ]
}